{
 "cells": [
  {
   "cell_type": "markdown",
   "id": "b048387e-6c19-44ca-91c8-3a27b30f08f7",
   "metadata": {},
   "source": [
    "# Data Sience Tools and Ecosystem"
   ]
  },
  {
   "cell_type": "markdown",
   "id": "b7a3e329-324e-4575-8986-dadda3d71bf6",
   "metadata": {},
   "source": [
    "In this notebook, Data Science Tools and Ecosystem are summarized."
   ]
  },
  {
   "cell_type": "markdown",
   "id": "5377d3ac-3f27-432f-a5b6-041c9efae027",
   "metadata": {},
   "source": [
    "Some of the popular languages that Data Scientist use are:\n",
    "1. Python \n",
    "2. R \n",
    "3. SQL "
   ]
  },
  {
   "cell_type": "markdown",
   "id": "ffc05488-afc8-4894-bb6e-71d8d7fb2621",
   "metadata": {},
   "source": [
    " Some of the commonly used libraries used by Data Scientist include:\n",
    " 1. NumPy\n",
    " 2. SciPy\n",
    " 3. Pandas"
   ]
  },
  {
   "cell_type": "markdown",
   "id": "a3d23130-afca-46ed-93c4-5a3ddbab88e0",
   "metadata": {},
   "source": [
    "|Data Science Tools|\n",
    "|------------------|\n",
    "|R Studio|\n",
    "|Jupyter Notebooks|\n",
    "|Zeplin Notebooks|"
   ]
  },
  {
   "cell_type": "markdown",
   "id": "0df329f8-3f34-4637-b171-57ad427e782a",
   "metadata": {},
   "source": [
    "### Below are a few examples of evaluating arithmetic expressions in Python"
   ]
  },
  {
   "cell_type": "code",
   "execution_count": 2,
   "id": "03b45372-cf7e-47a3-8269-6dda3e61b22d",
   "metadata": {
    "tags": []
   },
   "outputs": [
    {
     "data": {
      "text/plain": [
       "17"
      ]
     },
     "execution_count": 2,
     "metadata": {},
     "output_type": "execute_result"
    }
   ],
   "source": [
    "# This is a simple arithmetic expression to multiply then add integers\n",
    "(3*4)+5"
   ]
  },
  {
   "cell_type": "code",
   "execution_count": 3,
   "id": "e42ef5e4-d77e-4cfb-a18b-4a615581cc40",
   "metadata": {
    "tags": []
   },
   "outputs": [
    {
     "data": {
      "text/plain": [
       "3.3333333333333335"
      ]
     },
     "execution_count": 3,
     "metadata": {},
     "output_type": "execute_result"
    }
   ],
   "source": [
    "# This will convert 200 minutes to hours by dividing by 60\n",
    "200/60"
   ]
  },
  {
   "cell_type": "markdown",
   "id": "bd0db8be-2474-44a8-bf47-53f14c4afd64",
   "metadata": {},
   "source": [
    "**Objectives**:\n",
    "* List popular languages for Data Science\n",
    "* List commonly used libraries used by Data Scientist\n",
    "* Give examples of Basic arithmetic expressions in Python"
   ]
  },
  {
   "cell_type": "markdown",
   "id": "981a3323-8fd9-4621-b73d-49268e20f6fd",
   "metadata": {},
   "source": [
    "## Author\n",
    "Xavier Croft"
   ]
  },
  {
   "cell_type": "code",
   "execution_count": null,
   "id": "c14c0b6f-2a8c-40f2-a3e2-e0c228e16796",
   "metadata": {},
   "outputs": [],
   "source": []
  }
 ],
 "metadata": {
  "kernelspec": {
   "display_name": "Python",
   "language": "python",
   "name": "conda-env-python-py"
  },
  "language_info": {
   "codemirror_mode": {
    "name": "ipython",
    "version": 3
   },
   "file_extension": ".py",
   "mimetype": "text/x-python",
   "name": "python",
   "nbconvert_exporter": "python",
   "pygments_lexer": "ipython3",
   "version": "3.7.12"
  }
 },
 "nbformat": 4,
 "nbformat_minor": 5
}
